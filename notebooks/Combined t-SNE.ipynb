{
 "cells": [
  {
   "cell_type": "code",
   "execution_count": null,
   "metadata": {},
   "outputs": [],
   "source": [
    "import os\n",
    "\n",
    "import numpy\n",
    "import pandas\n",
    "from sklearn.decomposition import PCA\n",
    "from sklearn.manifold import TSNE\n",
    "\n",
    "import capblood_seq\n",
    "from capblood_seq import config"
   ]
  },
  {
   "cell_type": "code",
   "execution_count": null,
   "metadata": {},
   "outputs": [],
   "source": [
    "# Load the dataset. This downloads it if it doesn't exist already, and loads it into memory\n",
    "dataset = capblood_seq.load_dataset(pipeline_name=\"visualization\")"
   ]
  },
  {
   "cell_type": "code",
   "execution_count": null,
   "metadata": {},
   "outputs": [],
   "source": [
    "# For a combined tSNE, we're only interested in cells that have a single subject or cell type label\n",
    "dataset.filter_unlabeled_cells()\n",
    "dataset.filter_multi_labeled_cells(config.SUBJECT_IDS)\n",
    "dataset.filter_multi_labeled_cells(config.CELL_TYPES)"
   ]
  },
  {
   "cell_type": "code",
   "execution_count": null,
   "metadata": {},
   "outputs": [],
   "source": [
    "# For the combined tSNE, we want to get all cells across all samples and store their\n",
    "# originating sample and subject for plotting\n",
    "\n",
    "# A matrix containing the gene expression across all samples\n",
    "combined_cell_transcript_counts = numpy.zeros((0,dataset.get_num_genes()))\n",
    "\n",
    "cell_data = []\n",
    "\n",
    "for sample in config.SAMPLE_NAMES:        \n",
    "    \n",
    "    if \"AM\" in sample:\n",
    "        sample_time_of_day = \"AM\"\n",
    "    elif \"PM\" in sample:\n",
    "        sample_time_of_day = \"PM\"\n",
    "    \n",
    "    # For each sample and subject, we get their gene count matrix (normalized)\n",
    "    for subject_id in config.SUBJECT_IDS:\n",
    "        \n",
    "        cell_transcript_counts = dataset.get_transcript_counts(sample, subject_id=subject_id, normalized=True)\n",
    "        \n",
    "        # If this returns None, it means this subject wasn't found in this sample; skipping\n",
    "        if cell_transcript_counts is None:\n",
    "            continue\n",
    "            \n",
    "        gender = config.SUBJECT_ID_GENDERS[subject_id]\n",
    "            \n",
    "        for cell_barcode in cell_transcript_counts.row_names:\n",
    "\n",
    "            cell_types = []\n",
    "\n",
    "            for cell_type in config.CELL_TYPES:\n",
    "                \n",
    "                if cell_barcode in dataset.get_cells(sample, cell_type=cell_type):\n",
    "                    cell_types.append(cell_type)\n",
    "                \n",
    "                if cell_type in config.CELL_SUBTYPES:\n",
    "                    for cell_subtype in config.CELL_SUBTYPES[cell_type]:\n",
    "                        cell_subtype_label = \"%s %s\" % (cell_subtype, cell_type)\n",
    "                        if cell_barcode in dataset.get_cells(sample, cell_type=cell_subtype_label):\n",
    "                            cell_types.append(cell_subtype_label)\n",
    "\n",
    "            cell_types = \";\".join(cell_types)\n",
    "\n",
    "            cell_row = (cell_barcode, sample, sample_time_of_day, subject_id, gender, cell_types)\n",
    "\n",
    "            cell_data.append(cell_row)\n",
    "\n",
    "        # Add these cell transcript counts to the combined matrix\n",
    "        combined_cell_transcript_counts = numpy.concatenate(\n",
    "            (combined_cell_transcript_counts, cell_transcript_counts.to_array()))"
   ]
  },
  {
   "cell_type": "code",
   "execution_count": null,
   "metadata": {},
   "outputs": [],
   "source": [
    "# Transform the normalized gene expression values into PCA space\n",
    "combined_cell_PCs = PCA(n_components=30).fit_transform(\n",
    "    combined_cell_transcript_counts\n",
    ")"
   ]
  },
  {
   "cell_type": "code",
   "execution_count": null,
   "metadata": {},
   "outputs": [],
   "source": [
    "numpy.random.seed(42)"
   ]
  },
  {
   "cell_type": "code",
   "execution_count": null,
   "metadata": {},
   "outputs": [],
   "source": [
    "# Transform the combined PCA coordinates into t-SNE space\n",
    "combined_cell_coordinates = TSNE(\n",
    "    verbose=True,\n",
    "    perplexity=30,\n",
    "    n_components=2\n",
    ").fit_transform(\n",
    "    combined_cell_PCs\n",
    ")"
   ]
  },
  {
   "cell_type": "code",
   "execution_count": null,
   "metadata": {},
   "outputs": [],
   "source": [
    "cell_data_df = pandas.DataFrame.from_records(\n",
    "    cell_data,\n",
    "    columns=[\"Cell Barocde\", \"Sample\", \"Time of Day\", \"Subject ID\", \"Gender\", \"Cell Type(s)\"]\n",
    ")\n",
    "cell_data_df[\"t-SNE x\"] = combined_cell_coordinates[:, 0]\n",
    "cell_data_df[\"t-SNE y\"] = combined_cell_coordinates[:, 1]\n",
    "cell_data_df.to_csv(os.path.join(\"data\", \"cell_tSNE_coordinates_metadata.csv\"), index=False)"
   ]
  },
  {
   "cell_type": "code",
   "execution_count": null,
   "metadata": {},
   "outputs": [],
   "source": []
  }
 ],
 "metadata": {
  "kernelspec": {
   "display_name": "Python 3",
   "language": "python",
   "name": "python3"
  },
  "language_info": {
   "codemirror_mode": {
    "name": "ipython",
    "version": 3
   },
   "file_extension": ".py",
   "mimetype": "text/x-python",
   "name": "python",
   "nbconvert_exporter": "python",
   "pygments_lexer": "ipython3",
   "version": "3.6.9"
  }
 },
 "nbformat": 4,
 "nbformat_minor": 2
}
