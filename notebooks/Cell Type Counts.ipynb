{
 "cells": [
  {
   "cell_type": "code",
   "execution_count": null,
   "metadata": {},
   "outputs": [],
   "source": [
    "import os\n",
    "import numpy\n",
    "import csv\n",
    "\n",
    "import capblood_seq\n",
    "from capblood_seq import config"
   ]
  },
  {
   "cell_type": "code",
   "execution_count": null,
   "metadata": {},
   "outputs": [],
   "source": [
    "# Load the dataset. This downloads it if it doesn't exist already, and loads it into memory\n",
    "dataset = capblood_seq.load_dataset(data_directory=\"data\", pipeline_name=\"debris_filtered\")"
   ]
  },
  {
   "cell_type": "code",
   "execution_count": null,
   "metadata": {},
   "outputs": [],
   "source": [
    "# We want to compare percentages only relative to the cells we were able to identify\n",
    "dataset.filter_unlabeled_cells()\n",
    "dataset.filter_multi_labeled_cells(config.SUBJECT_IDS)\n",
    "\n",
    "cell_subtype_labels = [\"%s %s\" % (cell_subtype, cell_type) for cell_type in config.CELL_SUBTYPES for cell_subtype in config.CELL_SUBTYPES[cell_type]]\n",
    "dataset.filter_multi_labeled_cells(config.CELL_TYPES)\n",
    "dataset.filter_multi_labeled_cells(cell_subtype_labels)"
   ]
  },
  {
   "cell_type": "code",
   "execution_count": null,
   "metadata": {},
   "outputs": [],
   "source": [
    "# For each cell type, get the percent they make up in each sample\n",
    "cell_type_percentages = {}\n",
    "cell_type_errors = {}\n",
    "cell_type_num_cells = {}\n",
    "\n",
    "for cell_type in config.CELL_TYPES:\n",
    "    cell_type_percentages[cell_type] = []\n",
    "    cell_type_num_cells[cell_type] = 0\n",
    "    for sample in config.SAMPLE_NAMES:\n",
    "        for subject_id in config.SUBJECT_IDS:\n",
    "            num_subject_cells = dataset.get_num_cells(sample, subject_id=subject_id)\n",
    "            if not num_subject_cells:\n",
    "                continue\n",
    "            num_cells = dataset.get_num_cells(sample, cell_type=cell_type, subject_id=subject_id)\n",
    "            cell_type_num_cells[cell_type] += num_cells\n",
    "            cell_percentage = num_cells/num_subject_cells\n",
    "            cell_type_percentages[cell_type].append(cell_percentage)\n",
    "    cell_type_errors[cell_type] = numpy.std(cell_type_percentages[cell_type])\n",
    "\n",
    "for cell_type in config.CELL_TYPES:\n",
    "    cell_type_percentages[cell_type] = cell_type_num_cells[cell_type]/sum(cell_type_num_cells.values())\n",
    "\n",
    "# Repeat for each subtype\n",
    "cell_subtype_percentages = {}\n",
    "cell_subtype_errors = {}\n",
    "cell_subtype_num_cells = {}\n",
    "\n",
    "for cell_type, cell_subtypes in config.CELL_SUBTYPES.items():\n",
    "    cell_subtype_percentages[cell_type] = {}\n",
    "    cell_subtype_errors[cell_type] = {}\n",
    "    cell_subtype_num_cells[cell_type] = {}\n",
    "    for cell_subtype in cell_subtypes:\n",
    "        cell_subtype_percentages[cell_type][cell_subtype] = []\n",
    "        cell_subtype_num_cells[cell_type][cell_subtype] = 0\n",
    "        for sample in config.SAMPLE_NAMES:\n",
    "            for subject_id in config.SUBJECT_IDS:\n",
    "                num_subject_cells = dataset.get_num_cells(sample, subject_id=subject_id)\n",
    "                if not num_subject_cells:\n",
    "                    continue\n",
    "                num_cells = dataset.get_num_cells(sample, cell_type=\" \".join([cell_subtype, cell_type]), subject_id=subject_id)\n",
    "                cell_subtype_num_cells[cell_type][cell_subtype] += num_cells\n",
    "                cell_percentage = num_cells/num_subject_cells\n",
    "                cell_subtype_percentages[cell_type][cell_subtype].append(cell_percentage)\n",
    "        cell_subtype_errors[cell_type][cell_subtype] = numpy.std(cell_subtype_percentages[cell_type][cell_subtype])\n",
    "        cell_subtype_percentages[cell_type][cell_subtype] = cell_subtype_num_cells[cell_type][cell_subtype]/sum(cell_type_num_cells.values())"
   ]
  },
  {
   "cell_type": "code",
   "execution_count": null,
   "metadata": {},
   "outputs": [],
   "source": [
    "labels = []\n",
    "parent_labels = []\n",
    "values = []\n",
    "cell_types = []\n",
    "\n",
    "for cell_type, percentages in cell_type_percentages.items():\n",
    "    \n",
    "    label = cell_type\n",
    "    label += \"<BR>%.1f\" % (cell_type_percentages[cell_type] * 100)\n",
    "    label += \"&#177;%.1f%%\" % (cell_type_errors[cell_type] * 100)\n",
    "    cell_types.append(cell_type)\n",
    "    \n",
    "    labels.append(label)\n",
    "    parent_labels.append(\"All\")\n",
    "    values.append(cell_type_num_cells[cell_type])\n",
    "    \n",
    "    if cell_type in cell_subtype_percentages:\n",
    "        \n",
    "        parent_label = label\n",
    "        \n",
    "        for cell_subtype, percentages in cell_subtype_percentages[cell_type].items():\n",
    "            label = cell_subtype\n",
    "            label += \"<BR>%.1f\" % (cell_subtype_percentages[cell_type][cell_subtype] * 100)\n",
    "            label += \"&#177;%.1f%%\" % (cell_subtype_errors[cell_type][cell_subtype] * 100)\n",
    "            labels.append(label)\n",
    "            parent_labels.append(parent_label)\n",
    "            values.append(cell_subtype_num_cells[cell_type][cell_subtype])\n",
    "            cell_types.append(\"%s %s\" % (cell_subtype, cell_type))"
   ]
  },
  {
   "cell_type": "code",
   "execution_count": null,
   "metadata": {},
   "outputs": [],
   "source": [
    "with open(os.path.join(\"data\", \"cell_counts.csv\"), \"w\", newline=\"\") as csv_file:\n",
    "    writer = csv.writer(csv_file, delimiter=\",\")\n",
    "    \n",
    "    for label_index, label in enumerate(labels):\n",
    "        writer.writerow([cell_types[label_index], labels[label_index], parent_labels[label_index], values[label_index]])"
   ]
  },
  {
   "cell_type": "code",
   "execution_count": null,
   "metadata": {},
   "outputs": [],
   "source": []
  }
 ],
 "metadata": {
  "kernelspec": {
   "display_name": "Python 3",
   "language": "python",
   "name": "python3"
  },
  "language_info": {
   "codemirror_mode": {
    "name": "ipython",
    "version": 3
   },
   "file_extension": ".py",
   "mimetype": "text/x-python",
   "name": "python",
   "nbconvert_exporter": "python",
   "pygments_lexer": "ipython3",
   "version": "3.6.12"
  }
 },
 "nbformat": 4,
 "nbformat_minor": 2
}
