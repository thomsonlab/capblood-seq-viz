{
 "cells": [
  {
   "cell_type": "code",
   "execution_count": null,
   "metadata": {},
   "outputs": [],
   "source": [
    "import os\n",
    "import pickle\n",
    "\n",
    "import numpy\n",
    "from scipy import stats\n",
    "\n",
    "import capblood_seq\n",
    "from capblood_seq import config"
   ]
  },
  {
   "cell_type": "code",
   "execution_count": null,
   "metadata": {},
   "outputs": [],
   "source": [
    "# Whether to normalize means within each subject\n",
    "NORMALIZE_WITHIN_SUBJECT = True"
   ]
  },
  {
   "cell_type": "code",
   "execution_count": null,
   "metadata": {},
   "outputs": [],
   "source": [
    "# Load the dataset. This downloads it if it doesn't exist already, and loads it into memory\n",
    "dataset = capblood_seq.load_dataset(data_directory=\"data\", pipeline_name=\"normalized\")\n",
    "dataset.filter_multi_labeled_cells(config.CELL_TYPES)"
   ]
  },
  {
   "cell_type": "code",
   "execution_count": null,
   "metadata": {},
   "outputs": [],
   "source": [
    "cell_type_subject_sample_transcript_count_means = {}\n",
    "cell_type_subject_sample_transcript_count_errors = {}\n",
    "\n",
    "for cell_type_index, cell_type in enumerate(config.CELL_TYPES + [None]):\n",
    "\n",
    "    for subject_index, subject_id in enumerate(config.SUBJECT_IDS):\n",
    "\n",
    "        for sample in config.SAMPLE_NAMES:\n",
    "\n",
    "            transcript_counts = dataset.get_transcript_counts(\n",
    "                sample,\n",
    "                cell_type=cell_type,\n",
    "                subject_id=subject_id,\n",
    "                normalized=True\n",
    "            )\n",
    "            \n",
    "            if transcript_counts is None:\n",
    "                continue\n",
    "                \n",
    "            transcript_counts = transcript_counts.to_array()\n",
    "            \n",
    "            cell_type_subject_sample_transcript_count_means[(cell_type, subject_id, sample)] = \\\n",
    "                transcript_counts.mean(axis=0)\n",
    "            cell_type_subject_sample_transcript_count_errors[(cell_type, subject_id, sample)] = \\\n",
    "                stats.sem(transcript_counts, axis=0)"
   ]
  },
  {
   "cell_type": "code",
   "execution_count": null,
   "metadata": {},
   "outputs": [],
   "source": [
    "gene_cell_type_subject_data = {}\n",
    "\n",
    "for gene_index, gene in enumerate(dataset.gene_list):\n",
    "    \n",
    "    gene_cell_type_subject_data[gene] = {}\n",
    "    \n",
    "    for cell_type in config.CELL_TYPES + [None]:\n",
    "        \n",
    "        gene_cell_type_subject_data[gene][cell_type] = {}\n",
    "\n",
    "        for subject_id in config.SUBJECT_IDS:\n",
    "            \n",
    "            gene_cell_type_subject_data[gene][cell_type][subject_id] = {}\n",
    "\n",
    "            x_values = []\n",
    "            y_values = []\n",
    "            errors = []\n",
    "\n",
    "            for sample in config.SAMPLE_NAMES:\n",
    "                \n",
    "                cell_type_subject_sample = (cell_type, subject_id, sample)\n",
    "                \n",
    "                if cell_type_subject_sample not in cell_type_subject_sample_transcript_count_means:\n",
    "                    continue\n",
    "\n",
    "                y_values.append(cell_type_subject_sample_transcript_count_means[cell_type_subject_sample][gene_index])\n",
    "                errors.append(cell_type_subject_sample_transcript_count_errors[cell_type_subject_sample][gene_index])\n",
    "                x_values.append(sample)\n",
    "                        \n",
    "            if NORMALIZE_WITHIN_SUBJECT:\n",
    "                \n",
    "                num_samples = len(y_values)\n",
    "                \n",
    "                AM_means = numpy.array([y_values[i] for i in range(num_samples) if \"AM\" in x_values[i]])\n",
    "                PM_means = numpy.array([y_values[i] for i in range(num_samples) if \"PM\" in x_values[i]])\n",
    "                \n",
    "                mean_of_means = numpy.mean([AM_means.mean(), PM_means.mean()])\n",
    "                AM_means -= mean_of_means\n",
    "                PM_means -= mean_of_means\n",
    "                \n",
    "                AM_index = 0\n",
    "                PM_index = 0\n",
    "                \n",
    "                for i in range(num_samples):\n",
    "                    if \"AM\" in x_values[i]:\n",
    "                        y_values[i] = AM_means[AM_index]\n",
    "                        AM_index += 1\n",
    "                    else:\n",
    "                        y_values[i] = PM_means[PM_index]\n",
    "                        PM_index += 1\n",
    "            \n",
    "            gene_cell_type_subject_data[gene][cell_type][subject_id][\"x_values\"] = x_values\n",
    "            gene_cell_type_subject_data[gene][cell_type][subject_id][\"y_values\"] = y_values\n",
    "            gene_cell_type_subject_data[gene][cell_type][subject_id][\"errors\"] = errors"
   ]
  },
  {
   "cell_type": "code",
   "execution_count": null,
   "metadata": {},
   "outputs": [],
   "source": [
    "file_name = \"gene_mean_traces\"\n",
    "\n",
    "if NORMALIZE_WITHIN_SUBJECT:\n",
    "    file_name += \"_subject_normalized\"\n",
    "file_name += \".pickle\"\n",
    "\n",
    "with open(os.path.join(\"data\", file_name), \"wb\") as pickle_file:\n",
    "    pickle.dump(gene_cell_type_subject_data, pickle_file)"
   ]
  },
  {
   "cell_type": "code",
   "execution_count": null,
   "metadata": {},
   "outputs": [],
   "source": []
  }
 ],
 "metadata": {
  "kernelspec": {
   "display_name": "Python 3",
   "language": "python",
   "name": "python3"
  },
  "language_info": {
   "codemirror_mode": {
    "name": "ipython",
    "version": 3
   },
   "file_extension": ".py",
   "mimetype": "text/x-python",
   "name": "python",
   "nbconvert_exporter": "python",
   "pygments_lexer": "ipython3",
   "version": "3.6.9"
  }
 },
 "nbformat": 4,
 "nbformat_minor": 2
}
