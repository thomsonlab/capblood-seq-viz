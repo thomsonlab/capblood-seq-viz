{
 "cells": [
  {
   "cell_type": "code",
   "execution_count": null,
   "metadata": {},
   "outputs": [],
   "source": [
    "import os\n",
    "\n",
    "import numpy\n",
    "import pandas\n",
    "from scipy import stats\n",
    "from statsmodels.stats import multitest\n",
    "\n",
    "\n",
    "import capblood_seq\n",
    "from capblood_seq import config"
   ]
  },
  {
   "cell_type": "code",
   "execution_count": null,
   "metadata": {},
   "outputs": [],
   "source": [
    "GENE_ABUNDANCE_FILTER = 0.1\n",
    "\n",
    "FDR_THRESHOLDS = [0.05]\n",
    "\n",
    "# Whether to pool subjects into one t-test (True) or perform a test on each subject\n",
    "# separately and then combine via Stouffer's method (False)\n",
    "POOL_SUBJECTS = True\n",
    "\n",
    "# Whether to normalize means within each subject - recommend doing this\n",
    "# if POOL_SUBJECTS is True\n",
    "NORMALIZE_WITHIN_SUBJECT = True"
   ]
  },
  {
   "cell_type": "code",
   "execution_count": null,
   "metadata": {},
   "outputs": [],
   "source": [
    "# Load the dataset. This downloads it if it doesn't exist already, and loads it into memory\n",
    "dataset = capblood_seq.load_dataset(data_directory=\"data\", pipeline_name=\"normalized\")"
   ]
  },
  {
   "cell_type": "code",
   "execution_count": null,
   "metadata": {},
   "outputs": [],
   "source": [
    "# We want to compare percentages only relative to the cells we were able to identify\n",
    "dataset.filter_multi_labeled_cells(config.CELL_TYPES)\n",
    "dataset.filter_genes_by_percent_abundance(GENE_ABUNDANCE_FILTER, any_sample=True)"
   ]
  },
  {
   "cell_type": "code",
   "execution_count": null,
   "metadata": {},
   "outputs": [],
   "source": [
    "num_genes = dataset.get_num_genes()\n",
    "num_cell_types = len(config.CELL_TYPES)\n",
    "print(\"%s genes after filtering\" % num_genes)"
   ]
  },
  {
   "cell_type": "code",
   "execution_count": null,
   "metadata": {},
   "outputs": [],
   "source": [
    "# Preload transcript counts into numpy arrays for faster access\n",
    "\n",
    "cell_type_subject_sample_transcript_counts = {}\n",
    "\n",
    "for cell_type_index, cell_type in enumerate(config.CELL_TYPES + [None]):\n",
    "    for subject_index, subject_id in enumerate(config.SUBJECT_IDS):\n",
    "        for sample in config.SAMPLE_NAMES:\n",
    "            \n",
    "            transcript_counts = dataset.get_transcript_counts(\n",
    "                sample,\n",
    "                cell_type,\n",
    "                subject_id,\n",
    "                normalized=True\n",
    "            )\n",
    "            \n",
    "            if transcript_counts is None:\n",
    "                continue\n",
    "            \n",
    "            transcript_counts = transcript_counts.to_array()\n",
    "            \n",
    "            cell_type_subject_sample_transcript_counts[(cell_type, subject_id, sample)] = transcript_counts"
   ]
  },
  {
   "cell_type": "code",
   "execution_count": null,
   "metadata": {},
   "outputs": [],
   "source": [
    "p_values = numpy.zeros((num_genes, num_cell_types + 1))\n",
    "z_scores = numpy.zeros((num_genes, num_cell_types + 1))\n",
    "num_cells_expressing_gene = numpy.zeros((num_genes, num_cell_types + 1))\n",
    "num_cells = numpy.zeros((num_genes, num_cell_types + 1))\n",
    "\n",
    "for cell_type_index, cell_type in enumerate(config.CELL_TYPES + [None]):\n",
    "    \n",
    "    for gene_index, gene in enumerate(dataset._gene_list):\n",
    "\n",
    "        if gene_index % 1000 == 0:\n",
    "            print(gene_index)\n",
    "            \n",
    "        subject_p_values = []\n",
    "        num_samples_per_subject = []\n",
    "        \n",
    "        AM_means = []\n",
    "        PM_means = []\n",
    "\n",
    "        for subject_index, subject_id in enumerate(config.SUBJECT_IDS):\n",
    "            \n",
    "            subject_AM_means = []\n",
    "            subject_PM_means = []\n",
    "            \n",
    "            for sample in config.SAMPLE_NAMES:\n",
    "                \n",
    "                if (cell_type, subject_id, sample) not in cell_type_subject_sample_transcript_counts:\n",
    "                    continue\n",
    "                \n",
    "                transcript_counts = \\\n",
    "                    cell_type_subject_sample_transcript_counts[(cell_type, subject_id, sample)][:, gene_index]\n",
    "                \n",
    "                gene_mean = transcript_counts.mean()\n",
    "                num_cells_expressing_gene[gene_index, cell_type_index] += \\\n",
    "                    transcript_counts[transcript_counts > 0].shape[0]\n",
    "                num_cells[gene_index, cell_type_index] += transcript_counts.shape[0]\n",
    "                \n",
    "                if \"AM\" in sample:\n",
    "                    subject_AM_means.append(gene_mean)\n",
    "                else:\n",
    "                    subject_PM_means.append(gene_mean)\n",
    "            \n",
    "            subject_AM_means = numpy.array(subject_AM_means)\n",
    "            subject_PM_means = numpy.array(subject_PM_means)\n",
    "            \n",
    "            num_samples = len(subject_AM_means) + len(subject_PM_means)\n",
    "            \n",
    "            if NORMALIZE_WITHIN_SUBJECT:\n",
    "                mean_of_means = numpy.mean([subject_AM_means.mean(), subject_PM_means.mean()])\n",
    "                subject_AM_means -= mean_of_means\n",
    "                subject_PM_means -= mean_of_means\n",
    "            \n",
    "            if not POOL_SUBJECTS:\n",
    "                z, p = stats.ttest_ind(subject_AM_means, subject_PM_means)\n",
    "                if numpy.isnan(z):\n",
    "                    continue\n",
    "                num_samples_per_subject.append(num_samples)\n",
    "                subject_p_values.append(p)\n",
    "            else:\n",
    "                AM_means.extend(subject_AM_means)\n",
    "                PM_means.extend(subject_PM_means)\n",
    "\n",
    "        if not POOL_SUBJECTS:\n",
    "            \n",
    "            if len(subject_p_values) != 0:\n",
    "                z, p = stats.combine_pvalues(subject_p_values, method=\"stouffer\", weights=num_samples_per_subject)\n",
    "            else:\n",
    "                z = numpy.nan\n",
    "                p = numpy.nan\n",
    "        else:\n",
    "            z, p = stats.ttest_ind(AM_means, PM_means)\n",
    "        \n",
    "        p_values[gene_index, cell_type_index] = p\n",
    "        z_scores[gene_index, cell_type_index] = z"
   ]
  },
  {
   "cell_type": "code",
   "execution_count": null,
   "metadata": {},
   "outputs": [],
   "source": [
    "# Get just the p values associated with particular cell types\n",
    "cell_type_p_values = p_values[:, 0:num_cell_types]\n",
    "cell_type_z_scores = z_scores[:, 0:num_cell_types]\n",
    "cell_type_p_values_unwrapped = cell_type_p_values.reshape((-1, ))\n",
    "cell_type_z_scores_unwrapped = cell_type_z_scores.reshape((-1, ))\n",
    "cell_type_nan_mask = (\n",
    "    (numpy.isnan(cell_type_p_values_unwrapped) |\n",
    "     numpy.isnan(cell_type_z_scores_unwrapped)))\n",
    "\n",
    "# Get just the non-nan ones for multiple comparison correction\n",
    "cell_type_p_values_non_nan = cell_type_p_values_unwrapped[~cell_type_nan_mask]\n",
    "cell_type_z_scores_non_nan = cell_type_z_scores_unwrapped[~cell_type_nan_mask]\n",
    "\n",
    "cell_type_thresholds = []\n",
    "\n",
    "for threshold in FDR_THRESHOLDS:\n",
    "    # Multiple comparison correction\n",
    "    rejected, cell_type_p_values_corrected, _, _ = \\\n",
    "        multitest.multipletests(cell_type_p_values_non_nan, method=\"fdr_bh\", alpha=threshold)\n",
    "    \n",
    "    z_score_threshold = cell_type_z_scores_non_nan[rejected & (cell_type_z_scores_non_nan > 0)].min()\n",
    "    if not POOL_SUBJECTS:\n",
    "        cell_type_thresholds.append([z_score_threshold])\n",
    "    else:\n",
    "        negative_z_score_threshold = cell_type_z_scores_non_nan[rejected & (cell_type_z_scores_non_nan < 0)].max()\n",
    "        cell_type_thresholds.append((z_score_threshold, negative_z_score_threshold))\n",
    "\n",
    "# Fill in any nans with 1 for minimization\n",
    "cell_type_p_values[numpy.isnan(cell_type_p_values)] = 1\n",
    "\n",
    "# Get the index of the lowest p-value cell type for each gene\n",
    "lowest_cell_types = cell_type_p_values.argmin(axis=1)\n",
    "\n",
    "# Get the associated z score for the lowest p-value\n",
    "cell_type_max_z_scores = numpy.array([z_scores[gene_index, lowest_index] for (gene_index, lowest_index) in enumerate(lowest_cell_types)])"
   ]
  },
  {
   "cell_type": "code",
   "execution_count": null,
   "metadata": {},
   "outputs": [],
   "source": [
    "diurnal_genes_df = \\\n",
    "    pandas.DataFrame(\n",
    "        numpy.concatenate(\n",
    "            (\n",
    "                cell_type_z_scores,\n",
    "                cell_type_max_z_scores.reshape((-1, 1)),\n",
    "                cell_type_p_values,\n",
    "                numpy.array(\n",
    "                    [cell_type_p_values[i, j] for i, j in enumerate(lowest_cell_types)]\n",
    "                ).reshape((-1, 1))\n",
    "            ),\n",
    "            axis=1\n",
    "        ),\n",
    "        index=dataset.gene_list,\n",
    "        columns=[cell_type + \" Z Score\" for cell_type in config.CELL_TYPES + [\"By Cell Type\"]] + \\\n",
    "            [cell_type + \" p-value\" for cell_type in config.CELL_TYPES + [\"By Cell Type\"]]\n",
    "    )"
   ]
  },
  {
   "cell_type": "code",
   "execution_count": null,
   "metadata": {},
   "outputs": [],
   "source": [
    "diurnal_genes_df[\"Max Cell Type\"] = [config.CELL_TYPES[i] for i in lowest_cell_types]"
   ]
  },
  {
   "cell_type": "code",
   "execution_count": null,
   "metadata": {},
   "outputs": [],
   "source": [
    "# Get just the p values associated with all cells\n",
    "all_cells_p_values = p_values[:, -1]\n",
    "\n",
    "# Get the associated z score for the lowest p-value\n",
    "all_cells_z_scores = z_scores[:, -1]\n",
    "\n",
    "all_cells_thresholds = []\n",
    "\n",
    "for threshold in FDR_THRESHOLDS:\n",
    "    rejected, all_cells_p_values_corrected, _, _ = multitest.multipletests(all_cells_p_values, method=\"fdr_bh\", alpha=threshold)\n",
    "    z_score_threshold = all_cells_z_scores[rejected & (all_cells_z_scores > 0)].min()\n",
    "    if not POOL_SUBJECTS:\n",
    "        all_cells_thresholds.append([z_score_threshold])\n",
    "    else:\n",
    "        negative_z_score_threshold = all_cells_z_scores[rejected & (all_cells_z_scores <= 0)].max()\n",
    "        all_cells_thresholds.append((z_score_threshold, negative_z_score_threshold))"
   ]
  },
  {
   "cell_type": "code",
   "execution_count": null,
   "metadata": {},
   "outputs": [],
   "source": [
    "diurnal_genes_df[\"Population Wide Z Score\"] = all_cells_z_scores\n",
    "diurnal_genes_df[\"Population Wide p-value\"] = all_cells_p_values"
   ]
  },
  {
   "cell_type": "code",
   "execution_count": null,
   "metadata": {},
   "outputs": [],
   "source": [
    "percent_cells_expressing_gene = (num_cells_expressing_gene/num_cells).max(axis=1)"
   ]
  },
  {
   "cell_type": "code",
   "execution_count": null,
   "metadata": {},
   "outputs": [],
   "source": [
    "diurnal_genes_df[\"Percent Cells Expressing\"] = percent_cells_expressing_gene"
   ]
  },
  {
   "cell_type": "code",
   "execution_count": null,
   "metadata": {},
   "outputs": [],
   "source": [
    "diurnal_genes_df.to_csv(os.path.join(\"data\", \"gene_diurnality_scores.csv\"))"
   ]
  },
  {
   "cell_type": "code",
   "execution_count": null,
   "metadata": {},
   "outputs": [],
   "source": [
    "# Get the corrected p values for the final threshold\n",
    "cell_type_p_values_corrected_unwrapped = cell_type_p_values_unwrapped\n",
    "cell_type_p_values_corrected_unwrapped[cell_type_nan_mask] = 1\n",
    "cell_type_p_values_corrected_unwrapped[~cell_type_nan_mask] = cell_type_p_values_corrected\n",
    "cell_type_p_values_corrected = cell_type_p_values_corrected_unwrapped.reshape((-1, num_cell_types))"
   ]
  },
  {
   "cell_type": "code",
   "execution_count": null,
   "metadata": {},
   "outputs": [],
   "source": [
    "diurnal_genes_corrected_p_values_df = \\\n",
    "    pandas.DataFrame(\n",
    "        numpy.concatenate(\n",
    "            (\n",
    "                cell_type_p_values_corrected,\n",
    "                all_cells_p_values_corrected.reshape((-1, 1))\n",
    "            ),\n",
    "            axis=1\n",
    "        ),\n",
    "        index=dataset._gene_list,\n",
    "        columns=config.CELL_TYPES + [\"All Cells\"]\n",
    "    )\n",
    "\n",
    "diurnal_genes_corrected_p_values_df.to_csv(os.path.join(\"data\", \"diurnal_genes_corrected_p_values.csv\"))"
   ]
  },
  {
   "cell_type": "code",
   "execution_count": null,
   "metadata": {},
   "outputs": [],
   "source": []
  }
 ],
 "metadata": {
  "kernelspec": {
   "display_name": "Python 3",
   "language": "python",
   "name": "python3"
  },
  "language_info": {
   "codemirror_mode": {
    "name": "ipython",
    "version": 3
   },
   "file_extension": ".py",
   "mimetype": "text/x-python",
   "name": "python",
   "nbconvert_exporter": "python",
   "pygments_lexer": "ipython3",
   "version": "3.6.9"
  }
 },
 "nbformat": 4,
 "nbformat_minor": 2
}
