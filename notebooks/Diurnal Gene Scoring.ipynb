{
 "cells": [
  {
   "cell_type": "code",
   "execution_count": null,
   "metadata": {},
   "outputs": [],
   "source": [
    "import os\n",
    "\n",
    "import numpy\n",
    "import pandas\n",
    "from scipy import stats\n",
    "from statsmodels.stats import multitest\n",
    "\n",
    "\n",
    "import capblood_seq\n",
    "from capblood_seq import config"
   ]
  },
  {
   "cell_type": "code",
   "execution_count": null,
   "metadata": {},
   "outputs": [],
   "source": [
    "GENE_ABUNDANCE_FILTER = 0.1\n",
    "\n",
    "# Whether to pool subjects into one t-test (True) or perform a test on each subject\n",
    "# separately and then combine via Stouffer's method (False)\n",
    "POOL_SUBJECTS = False\n",
    "\n",
    "# Whether to normalize means within each subject - recommend doing this\n",
    "# if POOL_SUBJECTS is True\n",
    "NORMALIZE_WITHIN_SUBJECT = False"
   ]
  },
  {
   "cell_type": "code",
   "execution_count": null,
   "metadata": {},
   "outputs": [],
   "source": [
    "# Load the dataset. This downloads it if it doesn't exist already, and loads it into memory\n",
    "dataset = capblood_seq.load_dataset(data_directory=\"data\", pipeline_name=\"normalized\")"
   ]
  },
  {
   "cell_type": "code",
   "execution_count": null,
   "metadata": {},
   "outputs": [],
   "source": [
    "# We want to compare percentages only relative to the cells we were able to identify\n",
    "dataset.filter_multi_labeled_cells(config.CELL_TYPES)\n",
    "dataset.filter_genes_by_percent_abundance(GENE_ABUNDANCE_FILTER, any_sample=True)"
   ]
  },
  {
   "cell_type": "code",
   "execution_count": null,
   "metadata": {},
   "outputs": [],
   "source": [
    "num_genes = dataset.get_num_genes()\n",
    "num_cell_types = len(config.CELL_TYPES)\n",
    "print(\"%s genes after filtering\" % num_genes)"
   ]
  },
  {
   "cell_type": "code",
   "execution_count": null,
   "metadata": {},
   "outputs": [],
   "source": [
    "# Preload transcript counts into numpy arrays for faster access\n",
    "\n",
    "cell_type_subject_sample_transcript_counts = {}\n",
    "\n",
    "for cell_type_index, cell_type in enumerate(config.CELL_TYPES + [None]):\n",
    "    for subject_index, subject_id in enumerate(config.SUBJECT_IDS):\n",
    "        for sample in config.SAMPLE_NAMES:\n",
    "            \n",
    "            transcript_counts = dataset.get_transcript_counts(\n",
    "                sample,\n",
    "                cell_type,\n",
    "                subject_id,\n",
    "                normalized=True\n",
    "            )\n",
    "            \n",
    "            if transcript_counts is None:\n",
    "                continue\n",
    "            \n",
    "            transcript_counts = transcript_counts.to_array()\n",
    "            \n",
    "            cell_type_subject_sample_transcript_counts[(cell_type, subject_id, sample)] = transcript_counts"
   ]
  },
  {
   "cell_type": "code",
   "execution_count": null,
   "metadata": {},
   "outputs": [],
   "source": [
    "hypothesis_p_values = numpy.zeros((num_genes, num_cell_types + 1))\n",
    "hypothesis_z_scores = numpy.zeros((num_genes, num_cell_types + 1))\n",
    "num_cells_expressing_gene = numpy.zeros((num_genes, num_cell_types + 1))\n",
    "num_cells = numpy.zeros((num_genes, num_cell_types + 1))\n",
    "\n",
    "for cell_type_index, cell_type in enumerate(config.CELL_TYPES + [None]):\n",
    "    \n",
    "    for gene_index, gene in enumerate(dataset._gene_list):\n",
    "\n",
    "        if gene_index % 1000 == 0:\n",
    "            print(gene_index)\n",
    "            \n",
    "        subject_p_values = []\n",
    "        num_samples_per_subject = []\n",
    "        \n",
    "        AM_means = []\n",
    "        PM_means = []\n",
    "\n",
    "        for subject_index, subject_id in enumerate(config.SUBJECT_IDS):\n",
    "            \n",
    "            subject_AM_means = []\n",
    "            subject_PM_means = []\n",
    "            \n",
    "            for sample in config.SAMPLE_NAMES:\n",
    "                \n",
    "                if (cell_type, subject_id, sample) not in cell_type_subject_sample_transcript_counts:\n",
    "                    continue\n",
    "                \n",
    "                transcript_counts = \\\n",
    "                    cell_type_subject_sample_transcript_counts[(cell_type, subject_id, sample)][:, gene_index]\n",
    "                \n",
    "                gene_mean = transcript_counts.mean()\n",
    "                num_cells_expressing_gene[gene_index, cell_type_index] += \\\n",
    "                    transcript_counts[transcript_counts > 0].shape[0]\n",
    "                num_cells[gene_index, cell_type_index] += transcript_counts.shape[0]\n",
    "                \n",
    "                if \"AM\" in sample:\n",
    "                    subject_AM_means.append(gene_mean)\n",
    "                else:\n",
    "                    subject_PM_means.append(gene_mean)\n",
    "            \n",
    "            subject_AM_means = numpy.array(subject_AM_means)\n",
    "            subject_PM_means = numpy.array(subject_PM_means)\n",
    "            \n",
    "            num_samples = len(subject_AM_means) + len(subject_PM_means)\n",
    "            \n",
    "            if NORMALIZE_WITHIN_SUBJECT:\n",
    "                mean_of_means = \\\n",
    "                    (subject_AM_means.mean() * len(subject_PM_means) + \\\n",
    "                    subject_PM_means.mean() * len(subject_AM_means))/num_samples\n",
    "                subject_AM_means -= mean_of_means\n",
    "                subject_PM_means -= mean_of_means\n",
    "            \n",
    "            if not POOL_SUBJECTS:\n",
    "                z, p = stats.ttest_ind(subject_AM_means, subject_PM_means)\n",
    "                if numpy.isnan(z):\n",
    "                    continue\n",
    "                num_samples_per_subject.append(num_samples)\n",
    "                subject_p_values.append(p)\n",
    "            else:\n",
    "                AM_means.extend(subject_AM_means)\n",
    "                PM_means.extend(subject_PM_means)\n",
    "\n",
    "        if not POOL_SUBJECTS:\n",
    "            \n",
    "            if len(subject_p_values) != 0:\n",
    "                z, p = stats.combine_pvalues(subject_p_values, method=\"stouffer\", weights=num_samples_per_subject)\n",
    "            else:\n",
    "                z = numpy.nan\n",
    "                p = numpy.nan\n",
    "        else:\n",
    "            z, p = stats.ttest_ind(AM_means, PM_means)\n",
    "        \n",
    "        hypothesis_p_values[gene_index, cell_type_index] = p\n",
    "        hypothesis_z_scores[gene_index, cell_type_index] = z"
   ]
  },
  {
   "cell_type": "code",
   "execution_count": null,
   "metadata": {},
   "outputs": [],
   "source": [
    "hypothesis_cell_type_p_values = hypothesis_p_values[:, 0:num_cell_types]\n",
    "\n",
    "diurnal_genes_df = \\\n",
    "    pandas.DataFrame(\n",
    "        numpy.concatenate(\n",
    "            (\n",
    "                hypothesis_z_scores[:, 0:num_cell_types],\n",
    "                numpy.array(\n",
    "                    [hypothesis_z_scores[i, j] for i, j in enumerate(hypothesis_cell_type_p_values.argmin(axis=1))]\n",
    "                ).reshape((-1, 1)),\n",
    "                hypothesis_p_values[:, 0:num_cell_types],\n",
    "                numpy.array(\n",
    "                    [hypothesis_p_values[i, j] for i, j in enumerate(hypothesis_cell_type_p_values.argmin(axis=1))]\n",
    "                ).reshape((-1, 1))\n",
    "            ),\n",
    "            axis=1\n",
    "        ),\n",
    "        index=dataset._gene_list,\n",
    "        columns=[cell_type + \" Z Score\" for cell_type in config.CELL_TYPES + [\"By Cell Type\"]] + \\\n",
    "            [cell_type + \" p-value\" for cell_type in config.CELL_TYPES + [\"By Cell Type\"]]\n",
    "    )"
   ]
  },
  {
   "cell_type": "code",
   "execution_count": null,
   "metadata": {},
   "outputs": [],
   "source": [
    "diurnal_genes_df[\"Max Cell Type\"] = [config.CELL_TYPES[i] for i in hypothesis_cell_type_p_values.argmin(axis=1)]"
   ]
  },
  {
   "cell_type": "code",
   "execution_count": null,
   "metadata": {},
   "outputs": [],
   "source": [
    "# Get just the p values associated with all cells\n",
    "hypothesis_all_cells_p_values = hypothesis_p_values[:, -1]\n",
    "\n",
    "# Get the associated z score for the lowest p-value\n",
    "all_cells_z_scores = hypothesis_z_scores[:, -1]"
   ]
  },
  {
   "cell_type": "code",
   "execution_count": null,
   "metadata": {},
   "outputs": [],
   "source": [
    "diurnal_genes_df[\"Population Wide Z Score\"] = all_cells_z_scores\n",
    "diurnal_genes_df[\"Population Wide p-value\"] = hypothesis_all_cells_p_values"
   ]
  },
  {
   "cell_type": "code",
   "execution_count": null,
   "metadata": {},
   "outputs": [],
   "source": [
    "percent_cells_expressing_gene = (num_cells_expressing_gene/num_cells).max(axis=1)"
   ]
  },
  {
   "cell_type": "code",
   "execution_count": null,
   "metadata": {},
   "outputs": [],
   "source": [
    "diurnal_genes_df[\"Percent Cells Expressing\"] = percent_cells_expressing_gene"
   ]
  },
  {
   "cell_type": "code",
   "execution_count": null,
   "metadata": {},
   "outputs": [],
   "source": [
    "diurnal_genes_df.to_csv(os.path.join(\"data\", \"gene_diurnality_scores.csv\"))"
   ]
  }
 ],
 "metadata": {
  "kernelspec": {
   "display_name": "Python 3",
   "language": "python",
   "name": "python3"
  },
  "language_info": {
   "codemirror_mode": {
    "name": "ipython",
    "version": 3
   },
   "file_extension": ".py",
   "mimetype": "text/x-python",
   "name": "python",
   "nbconvert_exporter": "python",
   "pygments_lexer": "ipython3",
   "version": "3.6.9"
  }
 },
 "nbformat": 4,
 "nbformat_minor": 2
}
