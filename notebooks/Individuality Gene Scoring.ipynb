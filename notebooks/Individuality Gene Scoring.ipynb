{
 "cells": [
  {
   "cell_type": "code",
   "execution_count": null,
   "metadata": {},
   "outputs": [],
   "source": [
    "import os\n",
    "\n",
    "import numpy\n",
    "import pandas\n",
    "from scipy import stats\n",
    "\n",
    "import capblood_seq\n",
    "from capblood_seq import config"
   ]
  },
  {
   "cell_type": "code",
   "execution_count": null,
   "metadata": {},
   "outputs": [],
   "source": [
    "GENE_ABUNDANCE_FILTER = 0.1"
   ]
  },
  {
   "cell_type": "code",
   "execution_count": null,
   "metadata": {},
   "outputs": [],
   "source": [
    "# Load the dataset. This downloads it if it doesn't exist already, and loads it into memory\n",
    "dataset = capblood_seq.load_dataset(data_directory=\"data\", pipeline_name=\"normalized\")"
   ]
  },
  {
   "cell_type": "code",
   "execution_count": null,
   "metadata": {},
   "outputs": [],
   "source": [
    "# We want to compare percentages only relative to the cells we were able to identify\n",
    "dataset.filter_multi_labeled_cells(config.CELL_TYPES)\n",
    "dataset.filter_genes_by_percent_abundance(GENE_ABUNDANCE_FILTER, any_sample=True)"
   ]
  },
  {
   "cell_type": "code",
   "execution_count": null,
   "metadata": {},
   "outputs": [],
   "source": [
    "# Preload transcript counts into numpy arrays for faster access\n",
    "\n",
    "cell_type_subject_sample_transcript_counts = {}\n",
    "\n",
    "for cell_type_index, cell_type in enumerate(config.CELL_TYPES + [None]):\n",
    "    for subject_index, subject_id in enumerate(config.SUBJECT_IDS):\n",
    "        for sample in config.SAMPLE_NAMES:\n",
    "            \n",
    "            transcript_counts = dataset.get_transcript_counts(\n",
    "                sample,\n",
    "                cell_type,\n",
    "                subject_id,\n",
    "                normalized=True\n",
    "            )\n",
    "            \n",
    "            if transcript_counts is None:\n",
    "                continue\n",
    "            \n",
    "            transcript_counts = transcript_counts.to_array()\n",
    "            \n",
    "            cell_type_subject_sample_transcript_counts[(cell_type, subject_id, sample)] = transcript_counts\n",
    "    \n",
    "    for sample in config.SAMPLE_NAMES:\n",
    "        \n",
    "        transcript_counts = dataset.get_transcript_counts(\n",
    "            sample,\n",
    "            cell_type,\n",
    "            subject_id=None,\n",
    "            normalized=True\n",
    "        )\n",
    "\n",
    "        if transcript_counts is None:\n",
    "            continue\n",
    "\n",
    "        transcript_counts = transcript_counts.to_array()\n",
    "\n",
    "        cell_type_subject_sample_transcript_counts[(cell_type, None, sample)] = transcript_counts"
   ]
  },
  {
   "cell_type": "code",
   "execution_count": null,
   "metadata": {},
   "outputs": [],
   "source": [
    "individual_p_values = numpy.zeros((dataset.get_num_genes(), len(config.CELL_TYPES)))\n",
    "individual_f_statistics = numpy.zeros((dataset.get_num_genes(), len(config.CELL_TYPES)))\n",
    "num_cells_expressing_gene = numpy.zeros((dataset.get_num_genes(), len(config.CELL_TYPES)))\n",
    "num_cells = numpy.zeros((dataset.get_num_genes(), len(config.CELL_TYPES)))\n",
    "\n",
    "for cell_type_index, cell_type in enumerate(config.CELL_TYPES):\n",
    "\n",
    "    for gene_index, gene in enumerate(dataset._gene_list):\n",
    "\n",
    "        all_subject_gene_counts = []\n",
    "\n",
    "        for subject_index, subject_id in enumerate(config.SUBJECT_IDS):\n",
    "\n",
    "            subject_gene_means = []\n",
    "\n",
    "            for sample_index, sample in enumerate(config.SAMPLE_NAMES):\n",
    "                \n",
    "                cell_type_subject_sample = (cell_type, subject_id, sample)\n",
    "                \n",
    "                if cell_type_subject_sample not in cell_type_subject_sample_transcript_counts:\n",
    "                    continue\n",
    "                    \n",
    "                transcript_counts = cell_type_subject_sample_transcript_counts[cell_type_subject_sample][:, gene_index]\n",
    "                gene_mean = transcript_counts.mean()\n",
    "                subject_gene_means.append(gene_mean)\n",
    "                num_cells_expressing_gene[gene_index, cell_type_index] += \\\n",
    "                    transcript_counts[transcript_counts > 0].shape[0]\n",
    "                num_cells[gene_index, cell_type_index] += transcript_counts.shape[0]\n",
    "\n",
    "            all_subject_gene_counts.append(subject_gene_means)\n",
    "\n",
    "        if not numpy.any(numpy.any(all_subject_gene_counts)):\n",
    "            p = numpy.nan\n",
    "            f = numpy.nan\n",
    "        else:\n",
    "            f, p = stats.f_oneway(*all_subject_gene_counts)\n",
    "\n",
    "        individual_p_values[gene_index, cell_type_index] = p\n",
    "        individual_f_statistics[gene_index, cell_type_index] = f"
   ]
  },
  {
   "cell_type": "code",
   "execution_count": null,
   "metadata": {},
   "outputs": [],
   "source": [
    "# Fill in any nans with 1 for minimization\n",
    "individual_p_values[numpy.isnan(individual_p_values)] = 1"
   ]
  },
  {
   "cell_type": "code",
   "execution_count": null,
   "metadata": {},
   "outputs": [],
   "source": [
    "individual_genes_df = \\\n",
    "    pandas.DataFrame(\n",
    "        numpy.concatenate(\n",
    "            (\n",
    "                individual_f_statistics,\n",
    "                numpy.array(\n",
    "                    [individual_f_statistics[i, j] for i, j in enumerate(individual_p_values.argmin(axis=1))]\n",
    "                ).reshape((-1, 1)),\n",
    "                individual_p_values,\n",
    "                numpy.array(\n",
    "                    [individual_p_values[i, j] for i, j in enumerate(individual_p_values.argmin(axis=1))]\n",
    "                ).reshape((-1, 1))\n",
    "            ),\n",
    "            axis=1\n",
    "        ),\n",
    "        index=dataset._gene_list,\n",
    "        columns=[cell_type + \" F Statistic\" for cell_type in config.CELL_TYPES + [\"By Cell Type\"]] + \\\n",
    "            [cell_type + \" p-value\" for cell_type in config.CELL_TYPES + [\"By Cell Type\"]]\n",
    "    )"
   ]
  },
  {
   "cell_type": "code",
   "execution_count": null,
   "metadata": {},
   "outputs": [],
   "source": [
    "individual_genes_df[\"Max Cell Type\"] = [config.CELL_TYPES[i] for i in individual_p_values.argmin(axis=1)]"
   ]
  },
  {
   "cell_type": "code",
   "execution_count": null,
   "metadata": {},
   "outputs": [],
   "source": [
    "cell_type_p_values = numpy.zeros((dataset.get_num_genes()))\n",
    "cell_type_f_statistics = numpy.zeros((dataset.get_num_genes()))\n",
    "\n",
    "for gene_index, gene in enumerate(dataset._gene_list):\n",
    "    \n",
    "    all_cell_type_gene_means = []\n",
    "\n",
    "    for cell_type_index, cell_type in enumerate(config.CELL_TYPES):\n",
    "        \n",
    "        cell_type_gene_means = []\n",
    "        \n",
    "        for sample_index, sample in enumerate(config.SAMPLE_NAMES):\n",
    "        \n",
    "            cell_type_subject_sample = (cell_type, None, sample)\n",
    "            \n",
    "            transcript_counts = cell_type_subject_sample_transcript_counts[cell_type_subject_sample][:, gene_index]\n",
    "            cell_type_gene_means.append(transcript_counts.mean())\n",
    "        \n",
    "        all_cell_type_gene_means.append(cell_type_gene_means)\n",
    "\n",
    "    if not numpy.any(numpy.any(all_cell_type_gene_means)):\n",
    "        p = numpy.nan\n",
    "        f = numpy.nan\n",
    "    else:\n",
    "        f, p = stats.f_oneway(*all_cell_type_gene_means)\n",
    "\n",
    "    cell_type_p_values[gene_index] = p\n",
    "    cell_type_f_statistics[gene_index] = f"
   ]
  },
  {
   "cell_type": "code",
   "execution_count": null,
   "metadata": {},
   "outputs": [],
   "source": [
    "individual_genes_df[\"Cell Type F Statistic\"] = cell_type_f_statistics\n",
    "individual_genes_df[\"Cell Type p-value\"] = cell_type_p_values"
   ]
  },
  {
   "cell_type": "code",
   "execution_count": null,
   "metadata": {},
   "outputs": [],
   "source": [
    "percent_cells_expressing_gene = (num_cells_expressing_gene/num_cells).max(axis=1)"
   ]
  },
  {
   "cell_type": "code",
   "execution_count": null,
   "metadata": {},
   "outputs": [],
   "source": [
    "individual_genes_df[\"Percent Cells Expressing\"] = percent_cells_expressing_gene"
   ]
  },
  {
   "cell_type": "code",
   "execution_count": null,
   "metadata": {},
   "outputs": [],
   "source": [
    "individual_genes_df.to_csv(os.path.join(\"data\", \"gene_individuality_scores.csv\"))"
   ]
  }
 ],
 "metadata": {
  "kernelspec": {
   "display_name": "Python 3",
   "language": "python",
   "name": "python3"
  },
  "language_info": {
   "codemirror_mode": {
    "name": "ipython",
    "version": 3
   },
   "file_extension": ".py",
   "mimetype": "text/x-python",
   "name": "python",
   "nbconvert_exporter": "python",
   "pygments_lexer": "ipython3",
   "version": "3.6.9"
  }
 },
 "nbformat": 4,
 "nbformat_minor": 2
}
